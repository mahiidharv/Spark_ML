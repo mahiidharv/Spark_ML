{
 "cells": [
  {
   "cell_type": "markdown",
   "metadata": {},
   "source": [
    "#### 1. Create the Spark Environment  "
   ]
  },
  {
   "cell_type": "code",
   "execution_count": 1,
   "metadata": {},
   "outputs": [],
   "source": [
    "import os\n",
    "import sys\n",
    "os.environ[\"SPARK_HOME\"] = \"/usr/hdp/current/spark2-client\"\n",
    "os.environ[\"PYLIB\"] = os.environ[\"SPARK_HOME\"] + \"/python/lib\"\n",
    "sys.path.insert(0, os.environ[\"PYLIB\"] + \"/py4j-0.10.6-src.zip\")\n",
    "sys.path.insert(0, os.environ[\"PYLIB\"] + \"/pyspark.zip\")"
   ]
  },
  {
   "cell_type": "markdown",
   "metadata": {},
   "source": [
    "#### 2. Load the required Libraries for Spark Context and Spark Session (2M)"
   ]
  },
  {
   "cell_type": "code",
   "execution_count": 2,
   "metadata": {},
   "outputs": [],
   "source": [
    "from pyspark.conf import SparkConf\n",
    "from pyspark import SparkContext\n",
    "from pyspark.sql import SparkSession"
   ]
  },
  {
   "cell_type": "markdown",
   "metadata": {},
   "source": [
    "#### 3. Create the Spark Context and Spark Session (2M)"
   ]
  },
  {
   "cell_type": "code",
   "execution_count": 3,
   "metadata": {},
   "outputs": [],
   "source": [
    "conf = SparkConf().setAppName(\"CensusIncome\").setMaster('local[*]').set(\"spark.executor.memory\",\"40g\")\n",
    "sc = SparkContext(conf=conf)  # RDD sufficient\n",
    "spark = SparkSession(sc)  #Dataframes"
   ]
  },
  {
   "cell_type": "code",
   "execution_count": 4,
   "metadata": {},
   "outputs": [
    {
     "data": {
      "text/html": [
       "\n",
       "            <div>\n",
       "                <p><b>SparkSession - in-memory</b></p>\n",
       "                \n",
       "        <div>\n",
       "            <p><b>SparkContext</b></p>\n",
       "\n",
       "            <p><a href=\"http://y.insofe.edu.in:4041\">Spark UI</a></p>\n",
       "\n",
       "            <dl>\n",
       "              <dt>Version</dt>\n",
       "                <dd><code>v2.3.0.2.6.5.0-292</code></dd>\n",
       "              <dt>Master</dt>\n",
       "                <dd><code>local[*]</code></dd>\n",
       "              <dt>AppName</dt>\n",
       "                <dd><code>CensusIncome</code></dd>\n",
       "            </dl>\n",
       "        </div>\n",
       "        \n",
       "            </div>\n",
       "        "
      ],
      "text/plain": [
       "<pyspark.sql.session.SparkSession at 0x3f71250>"
      ]
     },
     "execution_count": 4,
     "metadata": {},
     "output_type": "execute_result"
    }
   ],
   "source": [
    "spark"
   ]
  },
  {
   "cell_type": "markdown",
   "metadata": {},
   "source": [
    "#### 4. Load the libraries for schema definition in Pyspark (2M)"
   ]
  },
  {
   "cell_type": "code",
   "execution_count": 5,
   "metadata": {},
   "outputs": [],
   "source": [
    "from pyspark.sql.types import *\n",
    "from pyspark.sql.functions import *\n"
   ]
  },
  {
   "cell_type": "markdown",
   "metadata": {},
   "source": [
    "#### Problem Statement:\n",
    "* This data was extracted from the census bureau database.The task is to classify the records based on the income field.Incomes have been binned at the 50K level to present a binary classification problem.The instance_weight attribute should not be used in the classifier. All the other attributes and their description are givn below.\n",
    "\n",
    "#### Description of the Attributes\n",
    "* **age**: continuous.\n",
    "* **class of worker**: Not in universe, Federal government, Local government, Never worked, Private, Self-employed- incorporated, Self-employed-not incorporated, State government, Without pay.\n",
    "* **detailed industry recode**: 0, 40, 44, 2, 43, 47, 48, 1, 11, 19, 24, 25, 32, 33, 34, 35, 36, 37, 38, 39, 4, 42, 45, 5, 15, 16, 22, 29, 31, 50, 14, 17, 18, 28, 3, 30, 41, 46, 51, 12, 13, 21, 23, 26, 6, 7, 9, 49, 27, 8, 10, 20.\n",
    "* **detailed occupation recode** : 0, 12, 31, 44, 19, 32, 10, 23, 26, 28, 29, 42, 40, 34, 14, 36, 38, 2, 20, 25, 37, 41, 27, 24, 30, 43, 33, 16, 45, 17, 35, 22, 18, 39, 3, 15, 13, 46, 8, 21, 9, 4, 6, 5, 1, 11, 7.\n",
    "* **education**: Children, 7th and 8th grade, 9th grade, 10th grade, High school graduate, 11th grade, 12th grade no diploma, 5th or 6th grade, Less than 1st grade, Bachelors degree(BA AB BS), 1st 2nd 3rd or 4th grade, Some college but no degree, Masters degree(MA MS MEng MEd MSW MBA), Associates degree-occup /vocational, Associates degree-academic program, Doctorate degree(PhD EdD), Prof school degree (MD DDS DVM LLB JD).\n",
    "* **wage per hour**: continuous.\n",
    "* **enroll in edu inst last wk**: Not in universe, High school, College or university.\n",
    "* **marital stat**: Never married, Married-civilian spouse present, Married-spouse absent, Separated, Divorced, Widowed, Married-A F spouse present.\n",
    "* **major industry code**: Not in universe or children, Entertainment, Social services, Agriculture, Education, Public administration, Manufacturing-durable goods, Manufacturing-nondurable goods, Wholesale trade, Retail trade, Finance insurance and real estate, Private household services, Business and repair services, Personal services except private HH, Construction, Medical except hospital, Other professional services, Transportation, Utilities and sanitary services, Mining, Communications, Hospital services, Forestry and fisheries, Armed Forces.\n",
    "* **major occupation code**: Not in universe, Professional specialty, Other service, Farming forestry and fishing, Sales, Adm support including clerical, Protective services, Handlers equip cleaners etc , Precision production craft & repair, Technicians and related support, Machine operators assmblrs & inspctrs, Transportation and material moving, Executive admin and managerial, Private household services, Armed Forces.\n",
    "* **race**: White, Black, Other, Amer Indian Aleut or Eskimo, Asian or Pacific Islander.\n",
    "* **hispanic origin**: Mexican (Mexicano), Mexican-American, Puerto Rican, Central or South American, All other, Other Spanish, Chicano, Cuban, Do not know, NA.\n",
    "* **sex**: Female, Male.\n",
    "* **member of a labor union**: Not in universe, No, Yes.\n",
    "* **reason for unemployment**: Not in universe, Re-entrant, Job loser - on layoff, New entrant, Job leaver, Other job loser.\n",
    "* **Full or part time employment stat**: Children or Armed Forces, Full-time schedules, Unemployed part- time, Not in labor force, Unemployed full-time, PT for non-econ reasons usually FT, PT for econ reasons usually PT, PT for econ reasons usually FT.\n",
    "* **capital gains**: continuous.\n",
    "* **capital losses**: continuous.\n",
    "* **dividends from stocks**: continuous.\n",
    "* **tax filer stat**: Nonfiler, Joint one under 65 & one 65+, Joint both under 65, Single, Head of household, Joint both 65+.\n",
    "* **region of previous residence**: Not in universe, South, Northeast, West, Midwest, Abroad.\n",
    "* **state of previous residence**: Not in universe, Utah, Michigan, North Carolina, North Dakota, Virginia, Vermont, Wyoming, West Virginia, Pennsylvania, Abroad, Oregon, California, Iowa, Florida, Arkansas, Texas, South Carolina, Arizona, Indiana, Tennessee, Maine, Alaska, Ohio, Montana, Nebraska, Mississippi, District of Columbia, Minnesota, Illinois, Kentucky, Delaware, Colorado, Maryland, Wisconsin, New Hampshire, Nevada, New York, Georgia, Oklahoma, New Mexico, South Dakota, Missouri, Kansas, Connecticut, Louisiana, Alabama, Massachusetts, Idaho, New Jersey.\n",
    "* **detailed household and family stat**: Child <18 never marr not in subfamily, Other Rel <18 never marr child of subfamily RP, Other Rel <18 never marr not in subfamily, Grandchild <18 never marr child of subfamily RP, Grandchild <18 never marr not in subfamily, Secondary individual, In group quarters, Child under 18 of RP of unrel subfamily, RP of unrelated subfamily, Spouse of householder, Householder, Other Rel <18 never married RP of subfamily, Grandchild <18 never marr RP of subfamily, Child <18 never marr RP of subfamily, Child <18 ever marr not in subfamily, Other Rel <18 ever marr RP of subfamily, Child <18 ever marr RP of subfamily, Nonfamily householder, Child <18 spouse of subfamily RP, Other Rel <18 spouse of subfamily RP, Other Rel <18 ever marr not in subfamily, Grandchild <18 ever marr not in subfamily, Child 18+ never marr Not in a subfamily, Grandchild 18+ never marr not in subfamily, Child 18+ ever marr RP of subfamily, Other Rel 18+ never marr not in subfamily, Child 18+ never marr RP of subfamily, Other Rel 18+ ever marr RP of subfamily, Other Rel 18+ never marr RP of subfamily, Other Rel 18+ spouse of subfamily RP, Other Rel 18+ ever marr not in subfamily, Child 18+ ever marr Not in a subfamily, Grandchild 18+ ever marr not in subfamily, Child 18+ spouse of subfamily RP, Spouse of RP of unrelated subfamily, Grandchild 18+ ever marr RP of subfamily, Grandchild 18+ never marr RP of subfamily, Grandchild 18+ spouse of subfamily RP.\n",
    "* **detailed household summary in household**: Child under 18 never married, Other relative of householder, Nonrelative of householder, Spouse of householder, Householder, Child under 18 ever married, Group Quarters- Secondary individual, Child 18 or older.\n",
    "| instance weight: ignore.\n",
    "* **instance weight**: continuous.\n",
    "* **migration code-change in msa**: Not in universe, Nonmover, MSA to MSA, NonMSA to nonMSA, MSA to nonMSA, NonMSA to MSA, Abroad to MSA, Not identifiable, Abroad to nonMSA.\n",
    "* **migration code-change in reg**: Not in universe, Nonmover, Same county, Different county same state, Different state same division, Abroad, Different region, Different division same region.\n",
    "* **migration code-move within reg**: Not in universe, Nonmover, Same county, Different county same state, Different state in West, Abroad, Different state in Midwest, Different state in South, Different state in Northeast.\n",
    "* **live in this house 1 year ago**: Not in universe under 1 year old, Yes, No.\n",
    "* **migration prev res in sunbelt**: Not in universe, Yes, No.\n",
    "* **num persons worked for employer**: continuous.\n",
    "* **family members under 18**: Both parents present, Neither parent present, Mother only present, Father only present, Not in universe.\n",
    "* **country of birth father**: Mexico, United-States, Puerto-Rico, Dominican-Republic, Jamaica, Cuba, Portugal, Nicaragua, Peru, Ecuador, Guatemala, Philippines, Canada, Columbia, El-Salvador, Japan, England, Trinadad&Tobago, Honduras, Germany, Taiwan, Outlying-U S (Guam USVI etc), India, Vietnam, China, Hong Kong, Cambodia, France, Laos, Haiti, South Korea, Iran, Greece, Italy, Poland, Thailand, Yugoslavia, Holand-Netherlands, Ireland, Scotland, Hungary, Panama.\n",
    "* **country of birth mother**: India, Mexico, United-States, Puerto-Rico, Dominican-Republic, England, Honduras, Peru, Guatemala, Columbia, El-Salvador, Philippines, France, Ecuador, Nicaragua, Cuba, Outlying-U S (Guam USVI etc), Jamaica, South Korea, China, Germany, Yugoslavia, Canada, Vietnam, Japan, Cambodia, Ireland, Laos, Haiti, Portugal, Taiwan, Holand-Netherlands, Greece, Italy, Poland, Thailand, Trinadad&Tobago, Hungary, Panama, Hong Kong, Scotland, Iran.\n",
    "* **country of birth self**: United-States, Mexico, Puerto-Rico, Peru, Canada, South Korea, India, Japan, Haiti, El-Salvador, Dominican-Republic, Portugal, Columbia, England, Thailand, Cuba, Laos, Panama, China, Germany, Vietnam, Italy, Honduras, Outlying-U S (Guam USVI etc), Hungary, Philippines, Poland, Ecuador, Iran, Guatemala, Holand-Netherlands, Taiwan, Nicaragua, France, Jamaica, Scotland, Yugoslavia, Hong Kong, Trinadad&Tobago, Greece, Cambodia, Ireland.\n",
    "* **citizenship**: Native- Born in the United States, Foreign born- Not a citizen of U S , Native- Born in Puerto Rico or U S Outlying, Native- Born abroad of American Parent(s), Foreign born- U S citizen by naturalization.\n",
    "* **own business or self employed**: 0, 2, 1.\n",
    "* **fill inc questionnaire for veteran's admin**: Not in universe, Yes, No.\n",
    "* **veterans benefits**: 0, 2, 1.\n",
    "* **weeks worked in year**: continuous.\n",
    "* **year**: 94, 95.\n",
    "\n",
    "* **Income** : -50000 and 50000"
   ]
  },
  {
   "cell_type": "markdown",
   "metadata": {},
   "source": [
    "#### 5. Define the schema from the description above (4M)"
   ]
  },
  {
   "cell_type": "code",
   "execution_count": 6,
   "metadata": {},
   "outputs": [],
   "source": [
    "incomeDataSchema = StructType([\n",
    "    StructField(\"age\", IntegerType(), True),\n",
    "    StructField(\"class_of_worker\", StringType(), True),\n",
    "    StructField(\"industry_code\",StringType(), True),\n",
    "    StructField(\"occupation_code\", StringType(), True),\n",
    "    StructField(\"education\", StringType(), True),\n",
    "    StructField(\"wage_per_hour\", IntegerType(), True),\n",
    "    StructField(\"enrol_eduinlat_wk\", StringType(), True),\n",
    "    StructField(\"marital_satus\", StringType(), True),        \n",
    "    StructField(\"major_industry_code\", StringType(), True),\n",
    "    StructField(\"major_occ_code\", StringType(), True),\n",
    "    StructField(\"race\", StringType(), True),\n",
    "    StructField(\"hispanic_origin\", StringType(), True),\n",
    "    StructField(\"sex\", StringType(), True),\n",
    "    StructField(\"mem_of_lab_union\", StringType(), True),\n",
    "    StructField(\"reason_for_unemployment\", StringType(), True),\n",
    "    StructField(\"FT_or_PT\", StringType(), True),\n",
    "    StructField(\"CAPGAIN\", IntegerType(), True),\n",
    "    StructField(\"CAPLOSS\", IntegerType(), True),\n",
    "    StructField(\"dividend_from_stocks\", IntegerType(), True),\n",
    "    StructField(\"tax_filer_stat\", StringType(), True),\n",
    "    StructField(\"region_previous_residence\", StringType(), True),\n",
    "    StructField(\"state_previous_residence\", StringType(), True),\n",
    "    StructField(\"houshold_family_stat\", StringType(), True),\n",
    "    StructField(\"household_summary_in_household\", StringType(), True),\n",
    "    StructField(\"instance_weight\", FloatType(), True),\n",
    "    StructField(\"migration_codechange_msa\", StringType(), True),\n",
    "    StructField(\"migration_codechange_reg\", StringType(), True),\n",
    "    StructField(\"migration_codemove_reg\", StringType(), True),\n",
    "    StructField(\"live_1yr_ago\", StringType(), True),\n",
    "    StructField(\"migration_prev_res_sunbelt\", StringType(), True),\n",
    "    StructField(\"num_persons_worked_for_employer\",IntegerType(), True),\n",
    "    StructField(\"members_under_18\", StringType(), True),\n",
    "    StructField(\"country_of_birth_father\", StringType(), True),\n",
    "    StructField(\"country_of_birth_mother\", StringType(), True),\n",
    "    StructField(\"country_of_birth_self\", StringType(), True),\n",
    "    StructField(\"citizenship\", StringType(), True),\n",
    "    StructField(\"ownbusinees_selfemp\", StringType(), True),\n",
    "    StructField(\"veterans_admin\", StringType(), True),\n",
    "    StructField(\"veterans_benefit\", StringType(), True),\n",
    "    StructField(\"weeks_worked_in_year\",IntegerType(), True),\n",
    "    StructField(\"year\", StringType(), True),\n",
    "    StructField(\"income\", StringType(), True)\n",
    "    ])"
   ]
  },
  {
   "cell_type": "markdown",
   "metadata": {},
   "source": [
    "#### 6. Read the Data from the CSV File (3M)"
   ]
  },
  {
   "cell_type": "code",
   "execution_count": 7,
   "metadata": {},
   "outputs": [],
   "source": [
    "data = spark.read.csv(path = \"file:///home/mahidharv/CensusIncome/Cutedataset/traindata/*\",sep=\",\",ignoreLeadingWhiteSpace=True,ignoreTrailingWhiteSpace=True,schema=incomeDataSchema,nullValue='?')\n",
    "                     "
   ]
  },
  {
   "cell_type": "markdown",
   "metadata": {},
   "source": [
    "#### 7.  Read/View Four rows (2M)"
   ]
  },
  {
   "cell_type": "code",
   "execution_count": 8,
   "metadata": {
    "scrolled": false
   },
   "outputs": [
    {
     "name": "stdout",
     "output_type": "stream",
     "text": [
      "+---+------------------------------+-------------+---------------+--------------------------+-------------+-----------------+-------------------------------+---------------------------------+-------------------------------------+-----+---------------+------+----------------+-----------------------+------------------------+-------+-------+--------------------+-------------------+-------------------------+------------------------+---------------------+------------------------------+---------------+------------------------+------------------------+----------------------+--------------------------------+--------------------------+-------------------------------+----------------+-----------------------+-----------------------+---------------------+---------------------------------+-------------------+---------------+----------------+--------------------+----+--------+\n",
      "|age|class_of_worker               |industry_code|occupation_code|education                 |wage_per_hour|enrol_eduinlat_wk|marital_satus                  |major_industry_code              |major_occ_code                       |race |hispanic_origin|sex   |mem_of_lab_union|reason_for_unemployment|FT_or_PT                |CAPGAIN|CAPLOSS|dividend_from_stocks|tax_filer_stat     |region_previous_residence|state_previous_residence|houshold_family_stat |household_summary_in_household|instance_weight|migration_codechange_msa|migration_codechange_reg|migration_codemove_reg|live_1yr_ago                    |migration_prev_res_sunbelt|num_persons_worked_for_employer|members_under_18|country_of_birth_father|country_of_birth_mother|country_of_birth_self|citizenship                      |ownbusinees_selfemp|veterans_admin |veterans_benefit|weeks_worked_in_year|year|income  |\n",
      "+---+------------------------------+-------------+---------------+--------------------------+-------------+-----------------+-------------------------------+---------------------------------+-------------------------------------+-----+---------------+------+----------------+-----------------------+------------------------+-------+-------+--------------------+-------------------+-------------------------+------------------------+---------------------+------------------------------+---------------+------------------------+------------------------+----------------------+--------------------------------+--------------------------+-------------------------------+----------------+-----------------------+-----------------------+---------------------+---------------------------------+-------------------+---------------+----------------+--------------------+----+--------+\n",
      "|58 |Self-employed-not incorporated|4            |34             |Some college but no degree|0            |Not in universe  |Divorced                       |Construction                     |Precision production craft & repair  |White|All other      |Male  |Not in universe |Not in universe        |Children or Armed Forces|0      |0      |0                   |Head of household  |South                    |Arkansas                |Householder          |Householder                   |1053.55        |MSA to MSA              |Same county             |Same county           |No                              |Yes                       |1                              |Not in universe |United-States          |United-States          |United-States        |Native- Born in the United States|0                  |Not in universe|2               |52                  |94  |- 50000.|\n",
      "|42 |Private                       |34           |3              |Bachelors degree(BA AB BS)|0            |Not in universe  |Married-civilian spouse present|Finance insurance and real estate|Executive admin and managerial       |White|All other      |Male  |Not in universe |Not in universe        |Children or Armed Forces|5178   |0      |0                   |Joint both under 65|Not in universe          |Not in universe         |Householder          |Householder                   |1535.86        |Nonmover                |Nonmover                |Nonmover              |Yes                             |Not in universe           |6                              |Not in universe |United-States          |United-States          |United-States        |Native- Born in the United States|0                  |Not in universe|2               |52                  |94  |- 50000.|\n",
      "|34 |Private                       |4            |37             |Some college but no degree|0            |Not in universe  |Married-civilian spouse present|Construction                     |Machine operators assmblrs & inspctrs|White|All other      |Male  |Not in universe |Not in universe        |Children or Armed Forces|0      |0      |0                   |Joint both under 65|Not in universe          |Not in universe         |Householder          |Householder                   |1146.79        |Nonmover                |Nonmover                |Nonmover              |Yes                             |Not in universe           |6                              |Not in universe |United-States          |United-States          |United-States        |Native- Born in the United States|0                  |Not in universe|2               |52                  |94  |- 50000.|\n",
      "|26 |Private                       |24           |12             |Bachelors degree(BA AB BS)|0            |Not in universe  |Never married                  |Manufacturing-nondurable goods   |Professional specialty               |White|All other      |Female|Not in universe |Not in universe        |Full-time schedules     |0      |0      |0                   |Single             |Not in universe          |Not in universe         |Nonfamily householder|Householder                   |2604.91        |null                    |null                    |null                  |Not in universe under 1 year old|null                      |6                              |Not in universe |United-States          |United-States          |United-States        |Native- Born in the United States|0                  |Not in universe|2               |52                  |95  |- 50000.|\n",
      "+---+------------------------------+-------------+---------------+--------------------------+-------------+-----------------+-------------------------------+---------------------------------+-------------------------------------+-----+---------------+------+----------------+-----------------------+------------------------+-------+-------+--------------------+-------------------+-------------------------+------------------------+---------------------+------------------------------+---------------+------------------------+------------------------+----------------------+--------------------------------+--------------------------+-------------------------------+----------------+-----------------------+-----------------------+---------------------+---------------------------------+-------------------+---------------+----------------+--------------------+----+--------+\n",
      "only showing top 4 rows\n",
      "\n"
     ]
    }
   ],
   "source": [
    "data.show(4,truncate=False)"
   ]
  },
  {
   "cell_type": "markdown",
   "metadata": {},
   "source": [
    "#### 8. Inspect the data types of the Columns (2M)"
   ]
  },
  {
   "cell_type": "code",
   "execution_count": 9,
   "metadata": {},
   "outputs": [
    {
     "name": "stdout",
     "output_type": "stream",
     "text": [
      "root\n",
      " |-- age: integer (nullable = true)\n",
      " |-- class_of_worker: string (nullable = true)\n",
      " |-- industry_code: string (nullable = true)\n",
      " |-- occupation_code: string (nullable = true)\n",
      " |-- education: string (nullable = true)\n",
      " |-- wage_per_hour: integer (nullable = true)\n",
      " |-- enrol_eduinlat_wk: string (nullable = true)\n",
      " |-- marital_satus: string (nullable = true)\n",
      " |-- major_industry_code: string (nullable = true)\n",
      " |-- major_occ_code: string (nullable = true)\n",
      " |-- race: string (nullable = true)\n",
      " |-- hispanic_origin: string (nullable = true)\n",
      " |-- sex: string (nullable = true)\n",
      " |-- mem_of_lab_union: string (nullable = true)\n",
      " |-- reason_for_unemployment: string (nullable = true)\n",
      " |-- FT_or_PT: string (nullable = true)\n",
      " |-- CAPGAIN: integer (nullable = true)\n",
      " |-- CAPLOSS: integer (nullable = true)\n",
      " |-- dividend_from_stocks: integer (nullable = true)\n",
      " |-- tax_filer_stat: string (nullable = true)\n",
      " |-- region_previous_residence: string (nullable = true)\n",
      " |-- state_previous_residence: string (nullable = true)\n",
      " |-- houshold_family_stat: string (nullable = true)\n",
      " |-- household_summary_in_household: string (nullable = true)\n",
      " |-- instance_weight: float (nullable = true)\n",
      " |-- migration_codechange_msa: string (nullable = true)\n",
      " |-- migration_codechange_reg: string (nullable = true)\n",
      " |-- migration_codemove_reg: string (nullable = true)\n",
      " |-- live_1yr_ago: string (nullable = true)\n",
      " |-- migration_prev_res_sunbelt: string (nullable = true)\n",
      " |-- num_persons_worked_for_employer: integer (nullable = true)\n",
      " |-- members_under_18: string (nullable = true)\n",
      " |-- country_of_birth_father: string (nullable = true)\n",
      " |-- country_of_birth_mother: string (nullable = true)\n",
      " |-- country_of_birth_self: string (nullable = true)\n",
      " |-- citizenship: string (nullable = true)\n",
      " |-- ownbusinees_selfemp: string (nullable = true)\n",
      " |-- veterans_admin: string (nullable = true)\n",
      " |-- veterans_benefit: string (nullable = true)\n",
      " |-- weeks_worked_in_year: integer (nullable = true)\n",
      " |-- year: string (nullable = true)\n",
      " |-- income: string (nullable = true)\n",
      "\n"
     ]
    }
   ],
   "source": [
    "data.printSchema()"
   ]
  },
  {
   "cell_type": "markdown",
   "metadata": {},
   "source": [
    "#### 9. Find the Total rows and Columns in the Dataset(2M)"
   ]
  },
  {
   "cell_type": "code",
   "execution_count": 10,
   "metadata": {},
   "outputs": [
    {
     "name": "stdout",
     "output_type": "stream",
     "text": [
      "No. of Columns = 42\n",
      "No. of Records = 99579\n"
     ]
    }
   ],
   "source": [
    "print(\"No. of Columns = {}\".format(len(data.columns)))\n",
    "\n",
    "print('No. of Records = {}'.format(data.count()))"
   ]
  },
  {
   "cell_type": "markdown",
   "metadata": {},
   "source": [
    "#### 10. Find the summary Statistics for the numerical attributes (2M)"
   ]
  },
  {
   "cell_type": "code",
   "execution_count": 11,
   "metadata": {},
   "outputs": [
    {
     "name": "stdout",
     "output_type": "stream",
     "text": [
      "+-------+------------------+-----------------+------------------+------------------+\n",
      "|summary|               age|    wage_per_hour|           CAPGAIN|           CAPLOSS|\n",
      "+-------+------------------+-----------------+------------------+------------------+\n",
      "|  count|             99579|            99579|             99579|             99579|\n",
      "|   mean| 34.56644473232308|55.66638548288294|443.29279265708635|37.530402996615756|\n",
      "| stddev|22.332816121498283|274.8698275934865| 4758.023857997538| 272.5512452587624|\n",
      "|    min|                 0|                0|                 0|                 0|\n",
      "|    max|                90|             9800|             99999|              4608|\n",
      "+-------+------------------+-----------------+------------------+------------------+\n",
      "\n"
     ]
    }
   ],
   "source": [
    "data.select('age','wage_per_hour','CAPGAIN',\"CAPLOSS\").describe().show()"
   ]
  },
  {
   "cell_type": "markdown",
   "metadata": {},
   "source": [
    "#### 11. Find the missing Values in each Column (2M)"
   ]
  },
  {
   "cell_type": "code",
   "execution_count": 12,
   "metadata": {},
   "outputs": [],
   "source": [
    "from pyspark.sql.functions import *\n",
    "coulmns_with_na_percentage = data.select([round(((count(when(isnan(c) | col(c).isNull(), c))/data.count())*100),2).alias(c) for c in data.columns])"
   ]
  },
  {
   "cell_type": "code",
   "execution_count": 13,
   "metadata": {},
   "outputs": [
    {
     "name": "stdout",
     "output_type": "stream",
     "text": [
      "+---+---------------+-------------+---------------+---------+-------------+-----------------+-------------+-------------------+--------------+----+---------------+---+----------------+-----------------------+--------+-------+-------+--------------------+--------------+-------------------------+------------------------+--------------------+------------------------------+---------------+------------------------+------------------------+----------------------+------------+--------------------------+-------------------------------+----------------+-----------------------+-----------------------+---------------------+-----------+-------------------+--------------+----------------+--------------------+----+------+\n",
      "|age|class_of_worker|industry_code|occupation_code|education|wage_per_hour|enrol_eduinlat_wk|marital_satus|major_industry_code|major_occ_code|race|hispanic_origin|sex|mem_of_lab_union|reason_for_unemployment|FT_or_PT|CAPGAIN|CAPLOSS|dividend_from_stocks|tax_filer_stat|region_previous_residence|state_previous_residence|houshold_family_stat|household_summary_in_household|instance_weight|migration_codechange_msa|migration_codechange_reg|migration_codemove_reg|live_1yr_ago|migration_prev_res_sunbelt|num_persons_worked_for_employer|members_under_18|country_of_birth_father|country_of_birth_mother|country_of_birth_self|citizenship|ownbusinees_selfemp|veterans_admin|veterans_benefit|weeks_worked_in_year|year|income|\n",
      "+---+---------------+-------------+---------------+---------+-------------+-----------------+-------------+-------------------+--------------+----+---------------+---+----------------+-----------------------+--------+-------+-------+--------------------+--------------+-------------------------+------------------------+--------------------+------------------------------+---------------+------------------------+------------------------+----------------------+------------+--------------------------+-------------------------------+----------------+-----------------------+-----------------------+---------------------+-----------+-------------------+--------------+----------------+--------------------+----+------+\n",
      "|0.0|            0.0|          0.0|            0.0|      0.0|          0.0|              0.0|          0.0|                0.0|           0.0| 0.0|            0.0|0.0|             0.0|                    0.0|     0.0|    0.0|    0.0|                 0.0|           0.0|                      0.0|                    0.36|                 0.0|                           0.0|            0.0|                   49.94|                   49.94|                 49.94|         0.0|                     49.94|                            0.0|             0.0|                   3.29|                   2.97|                 1.61|        0.0|                0.0|           0.0|             0.0|                 0.0| 0.0|   0.0|\n",
      "+---+---------------+-------------+---------------+---------+-------------+-----------------+-------------+-------------------+--------------+----+---------------+---+----------------+-----------------------+--------+-------+-------+--------------------+--------------+-------------------------+------------------------+--------------------+------------------------------+---------------+------------------------+------------------------+----------------------+------------+--------------------------+-------------------------------+----------------+-----------------------+-----------------------+---------------------+-----------+-------------------+--------------+----------------+--------------------+----+------+\n",
      "\n"
     ]
    }
   ],
   "source": [
    "coulmns_with_na_percentage.show()"
   ]
  },
  {
   "cell_type": "markdown",
   "metadata": {},
   "source": [
    "#### 12. Drop the Columns that have missing values more than 20% (3M)"
   ]
  },
  {
   "cell_type": "code",
   "execution_count": 14,
   "metadata": {},
   "outputs": [],
   "source": [
    "data = data.drop(\"migration_codechange_msa\",\"migration_codechange_reg\",\"migration_codemove_reg\",\"migration_prev_res_sunbelt\")"
   ]
  },
  {
   "cell_type": "code",
   "execution_count": 15,
   "metadata": {},
   "outputs": [
    {
     "data": {
      "text/plain": [
       "['age',\n",
       " 'class_of_worker',\n",
       " 'industry_code',\n",
       " 'occupation_code',\n",
       " 'education',\n",
       " 'wage_per_hour',\n",
       " 'enrol_eduinlat_wk',\n",
       " 'marital_satus',\n",
       " 'major_industry_code',\n",
       " 'major_occ_code',\n",
       " 'race',\n",
       " 'hispanic_origin',\n",
       " 'sex',\n",
       " 'mem_of_lab_union',\n",
       " 'reason_for_unemployment',\n",
       " 'FT_or_PT',\n",
       " 'CAPGAIN',\n",
       " 'CAPLOSS',\n",
       " 'dividend_from_stocks',\n",
       " 'tax_filer_stat',\n",
       " 'region_previous_residence',\n",
       " 'state_previous_residence',\n",
       " 'houshold_family_stat',\n",
       " 'household_summary_in_household',\n",
       " 'instance_weight',\n",
       " 'live_1yr_ago',\n",
       " 'num_persons_worked_for_employer',\n",
       " 'members_under_18',\n",
       " 'country_of_birth_father',\n",
       " 'country_of_birth_mother',\n",
       " 'country_of_birth_self',\n",
       " 'citizenship',\n",
       " 'ownbusinees_selfemp',\n",
       " 'veterans_admin',\n",
       " 'veterans_benefit',\n",
       " 'weeks_worked_in_year',\n",
       " 'year',\n",
       " 'income']"
      ]
     },
     "execution_count": 15,
     "metadata": {},
     "output_type": "execute_result"
    }
   ],
   "source": [
    "data.columns"
   ]
  },
  {
   "cell_type": "markdown",
   "metadata": {},
   "source": [
    "#### 13. Drop the rows with NA values and work on the remaining dataset(2M)"
   ]
  },
  {
   "cell_type": "code",
   "execution_count": 16,
   "metadata": {},
   "outputs": [],
   "source": [
    "data = data.na.drop()"
   ]
  },
  {
   "cell_type": "code",
   "execution_count": 17,
   "metadata": {},
   "outputs": [
    {
     "data": {
      "text/plain": [
       "95193"
      ]
     },
     "execution_count": 17,
     "metadata": {},
     "output_type": "execute_result"
    }
   ],
   "source": [
    "data.count()"
   ]
  },
  {
   "cell_type": "markdown",
   "metadata": {},
   "source": [
    "#### 14. The distribution of income class on education(2M)"
   ]
  },
  {
   "cell_type": "code",
   "execution_count": 18,
   "metadata": {},
   "outputs": [
    {
     "name": "stdout",
     "output_type": "stream",
     "text": [
      "+----------------+----------+----------+---------------------+------------------------+----------------+-----------------+---------+----------------------------------+-----------------------------------+--------------------------+--------+-------------------------+--------------------+-------------------+--------------------------------------+--------------------------------------+--------------------------+\n",
      "|income_education|10th grade|11th grade|12th grade no diploma|1st 2nd 3rd or 4th grade|5th or 6th grade|7th and 8th grade|9th grade|Associates degree-academic program|Associates degree-occup /vocational|Bachelors degree(BA AB BS)|Children|Doctorate degree(PhD EdD)|High school graduate|Less than 1st grade|Masters degree(MA MS MEng MEd MSW MBA)|Prof school degree (MD DDS DVM LLB JD)|Some college but no degree|\n",
      "+----------------+----------+----------+---------------------+------------------------+----------------+-----------------+---------+----------------------------------+-----------------------------------+--------------------------+--------+-------------------------+--------------------+-------------------+--------------------------------------+--------------------------------------+--------------------------+\n",
      "|        - 50000.|      3554|      3299|                  961|                     864|            1528|             3710|     2997|                              1887|                               2379|                      7440|   22831|                      252|               22264|                374|                                  2110|                                   384|                     12573|\n",
      "|         50000+.|        33|        28|                   16|                       5|               9|               36|       17|                               211|                                205|                      1849|       0|                      285|                 874|                  0|                                   993|                                   411|                       814|\n",
      "+----------------+----------+----------+---------------------+------------------------+----------------+-----------------+---------+----------------------------------+-----------------------------------+--------------------------+--------+-------------------------+--------------------+-------------------+--------------------------------------+--------------------------------------+--------------------------+\n",
      "\n"
     ]
    }
   ],
   "source": [
    "data.crosstab(col1='income',col2='education').show()"
   ]
  },
  {
   "cell_type": "markdown",
   "metadata": {},
   "source": [
    "#### 15. Find the Correlation between  Columns (2M)"
   ]
  },
  {
   "cell_type": "code",
   "execution_count": 19,
   "metadata": {},
   "outputs": [
    {
     "name": "stdout",
     "output_type": "stream",
     "text": [
      "+-----------------------------------------------------------+\n",
      "|corr(weeks_worked_in_year, num_persons_worked_for_employer)|\n",
      "+-----------------------------------------------------------+\n",
      "|                                         0.7495145872631154|\n",
      "+-----------------------------------------------------------+\n",
      "\n"
     ]
    }
   ],
   "source": [
    "from pyspark.sql.functions import corr\n",
    "data.select(corr('weeks_worked_in_year','num_persons_worked_for_employer')).show()\n"
   ]
  },
  {
   "cell_type": "markdown",
   "metadata": {},
   "source": [
    "#### 16. Define the schema dict from data type of the Data Frame (2M)"
   ]
  },
  {
   "cell_type": "code",
   "execution_count": 20,
   "metadata": {},
   "outputs": [],
   "source": [
    "schema_dict = dict(data.dtypes)"
   ]
  },
  {
   "cell_type": "markdown",
   "metadata": {},
   "source": [
    "#### 17. Write code to Seperate the columns in Categorical and Numerical attributes (Not Manual)(2M)"
   ]
  },
  {
   "cell_type": "code",
   "execution_count": 21,
   "metadata": {},
   "outputs": [],
   "source": [
    "num_Var_Names=[]\n",
    "cat_Var_Names=[]\n",
    "schema_dict = dict(data.dtypes)\n",
    "iterator = [key for key in schema_dict.keys() if key!='income' ]\n",
    "for col in iterator:\n",
    "    if schema_dict[col]=='int':\n",
    "        \n",
    "            num_Var_Names.append(col)\n",
    "    else:\n",
    "        cat_Var_Names.append(col)"
   ]
  },
  {
   "cell_type": "code",
   "execution_count": 22,
   "metadata": {},
   "outputs": [
    {
     "data": {
      "text/plain": [
       "['dividend_from_stocks',\n",
       " 'weeks_worked_in_year',\n",
       " 'num_persons_worked_for_employer',\n",
       " 'CAPLOSS',\n",
       " 'CAPGAIN',\n",
       " 'wage_per_hour',\n",
       " 'age']"
      ]
     },
     "execution_count": 22,
     "metadata": {},
     "output_type": "execute_result"
    }
   ],
   "source": [
    "num_Var_Names"
   ]
  },
  {
   "cell_type": "code",
   "execution_count": 23,
   "metadata": {},
   "outputs": [
    {
     "data": {
      "text/plain": [
       "['country_of_birth_self',\n",
       " 'tax_filer_stat',\n",
       " 'marital_satus',\n",
       " 'instance_weight',\n",
       " 'sex',\n",
       " 'country_of_birth_father',\n",
       " 'year',\n",
       " 'citizenship',\n",
       " 'education',\n",
       " 'country_of_birth_mother',\n",
       " 'enrol_eduinlat_wk',\n",
       " 'members_under_18',\n",
       " 'mem_of_lab_union',\n",
       " 'veterans_admin',\n",
       " 'occupation_code',\n",
       " 'industry_code',\n",
       " 'region_previous_residence',\n",
       " 'hispanic_origin',\n",
       " 'state_previous_residence',\n",
       " 'FT_or_PT',\n",
       " 'ownbusinees_selfemp',\n",
       " 'reason_for_unemployment',\n",
       " 'live_1yr_ago',\n",
       " 'major_occ_code',\n",
       " 'major_industry_code',\n",
       " 'houshold_family_stat',\n",
       " 'veterans_benefit',\n",
       " 'class_of_worker',\n",
       " 'race',\n",
       " 'household_summary_in_household']"
      ]
     },
     "execution_count": 23,
     "metadata": {},
     "output_type": "execute_result"
    }
   ],
   "source": [
    "cat_Var_Names"
   ]
  },
  {
   "cell_type": "markdown",
   "metadata": {},
   "source": [
    "#### 18. Split the data into train and test (2M)"
   ]
  },
  {
   "cell_type": "code",
   "execution_count": 24,
   "metadata": {},
   "outputs": [],
   "source": [
    "(trainingData, testData) = data.randomSplit([0.7, 0.3])"
   ]
  },
  {
   "cell_type": "markdown",
   "metadata": {},
   "source": [
    "#### 19. Cache the train and validation data sets and unpersist data (2M)¶"
   ]
  },
  {
   "cell_type": "code",
   "execution_count": 25,
   "metadata": {},
   "outputs": [
    {
     "data": {
      "text/plain": [
       "DataFrame[age: int, class_of_worker: string, industry_code: string, occupation_code: string, education: string, wage_per_hour: int, enrol_eduinlat_wk: string, marital_satus: string, major_industry_code: string, major_occ_code: string, race: string, hispanic_origin: string, sex: string, mem_of_lab_union: string, reason_for_unemployment: string, FT_or_PT: string, CAPGAIN: int, CAPLOSS: int, dividend_from_stocks: int, tax_filer_stat: string, region_previous_residence: string, state_previous_residence: string, houshold_family_stat: string, household_summary_in_household: string, instance_weight: float, live_1yr_ago: string, num_persons_worked_for_employer: int, members_under_18: string, country_of_birth_father: string, country_of_birth_mother: string, country_of_birth_self: string, citizenship: string, ownbusinees_selfemp: string, veterans_admin: string, veterans_benefit: string, weeks_worked_in_year: int, year: string, income: string]"
      ]
     },
     "execution_count": 25,
     "metadata": {},
     "output_type": "execute_result"
    }
   ],
   "source": [
    "trainingData.cache()\n",
    "testData.cache()\n",
    "data.unpersist()"
   ]
  },
  {
   "cell_type": "markdown",
   "metadata": {},
   "source": [
    "#### 20. Check for the Class balance in the train and test data set (2M)"
   ]
  },
  {
   "cell_type": "code",
   "execution_count": 26,
   "metadata": {},
   "outputs": [
    {
     "name": "stdout",
     "output_type": "stream",
     "text": [
      "+--------+-----+\n",
      "|  income|count|\n",
      "+--------+-----+\n",
      "| 50000+.| 4065|\n",
      "|- 50000.|62529|\n",
      "+--------+-----+\n",
      "\n",
      "+--------+-----+\n",
      "|  income|count|\n",
      "+--------+-----+\n",
      "| 50000+.| 1721|\n",
      "|- 50000.|26878|\n",
      "+--------+-----+\n",
      "\n"
     ]
    }
   ],
   "source": [
    "trainingData.groupby('income').count().show()\n",
    "testData.groupby('income').count().show()"
   ]
  },
  {
   "cell_type": "markdown",
   "metadata": {},
   "source": [
    "#### 21.  Perform the required feature Preprocessing (10M)"
   ]
  },
  {
   "cell_type": "code",
   "execution_count": 27,
   "metadata": {},
   "outputs": [],
   "source": [
    "from pyspark.ml.feature import VectorAssembler\n",
    "\n",
    "assembler_Num = VectorAssembler(inputCols=num_Var_Names, outputCol=\"num_features\")"
   ]
  },
  {
   "cell_type": "code",
   "execution_count": 28,
   "metadata": {},
   "outputs": [],
   "source": [
    "from pyspark.ml.feature import MinMaxScaler\n",
    "\n",
    "min_Max_Scalar = MinMaxScaler(inputCol=\"num_features\", outputCol=\"scaled_num_features\")"
   ]
  },
  {
   "cell_type": "code",
   "execution_count": 29,
   "metadata": {},
   "outputs": [],
   "source": [
    "from pyspark.ml.feature import OneHotEncoder, StringIndexer, VectorAssembler\n",
    "\n",
    "indexers_Cat = [StringIndexer(inputCol=cat_Var_Name, outputCol=\"{0}_index\".format(cat_Var_Name),handleInvalid='skip') for cat_Var_Name in cat_Var_Names ]\n",
    "encoders_Cat = [OneHotEncoder(inputCol=indexer.getOutputCol(), outputCol=\"{0}_vec\".format(indexer.getInputCol())) for indexer in indexers_Cat]\n",
    "assembler_Cat = VectorAssembler(inputCols=[encoder.getOutputCol() for encoder in encoders_Cat], outputCol=\"cat_features\")\n",
    "\n",
    "assembler = VectorAssembler(inputCols=[\"scaled_num_features\",\"cat_features\"], outputCol=\"features\")"
   ]
  },
  {
   "cell_type": "code",
   "execution_count": 30,
   "metadata": {},
   "outputs": [],
   "source": [
    "indexer_Label = StringIndexer(inputCol=\"income\", outputCol=\"label\")"
   ]
  },
  {
   "cell_type": "code",
   "execution_count": 31,
   "metadata": {},
   "outputs": [],
   "source": [
    "preprocessiong_Stages = [assembler_Num]+[min_Max_Scalar]+indexers_Cat+encoders_Cat+[assembler_Cat]+[assembler]+[indexer_Label]"
   ]
  },
  {
   "cell_type": "markdown",
   "metadata": {},
   "source": [
    "#### 22. Create the Logistic regression Model(5M)"
   ]
  },
  {
   "cell_type": "code",
   "execution_count": 32,
   "metadata": {},
   "outputs": [],
   "source": [
    "from pyspark.ml.classification import LogisticRegression\n",
    "\n",
    "lr = LogisticRegression(maxIter=10, labelCol=\"label\", featuresCol=\"features\")"
   ]
  },
  {
   "cell_type": "code",
   "execution_count": 33,
   "metadata": {},
   "outputs": [
    {
     "data": {
      "text/plain": [
       "247"
      ]
     },
     "execution_count": 33,
     "metadata": {},
     "output_type": "execute_result"
    }
   ],
   "source": [
    "import gc\n",
    "gc.collect()"
   ]
  },
  {
   "cell_type": "code",
   "execution_count": 34,
   "metadata": {},
   "outputs": [],
   "source": [
    "from pyspark.ml import Pipeline\n",
    "\n",
    "lr_Pipeline = Pipeline(stages=preprocessiong_Stages+[lr]) \n",
    "\n",
    "lr_Pipeline_model = lr_Pipeline.fit(trainingData)"
   ]
  },
  {
   "cell_type": "code",
   "execution_count": 35,
   "metadata": {},
   "outputs": [
    {
     "name": "stdout",
     "output_type": "stream",
     "text": [
      "objectiveHistory:\n",
      "0.229823778247\n",
      "0.15131133058\n",
      "0.0967792860514\n",
      "0.0846682297285\n",
      "0.0761826914562\n",
      "0.0549582595968\n",
      "0.0372787516928\n",
      "0.0314933561042\n",
      "0.0285251447918\n",
      "0.0264393914284\n",
      "0.0251569738356\n"
     ]
    }
   ],
   "source": [
    "lr_Summary = lr_Pipeline_model.stages[-1].summary\n",
    "objectiveHistory = lr_Summary.objectiveHistory\n",
    "print(\"objectiveHistory:\")\n",
    "for objective in objectiveHistory:\n",
    "    print(objective)"
   ]
  },
  {
   "cell_type": "code",
   "execution_count": 36,
   "metadata": {},
   "outputs": [],
   "source": [
    "train_predictions_lr = lr_Pipeline_model.transform(trainingData)\n",
    "test_predictions_lr = lr_Pipeline_model.transform(testData)"
   ]
  },
  {
   "cell_type": "code",
   "execution_count": 37,
   "metadata": {},
   "outputs": [
    {
     "name": "stdout",
     "output_type": "stream",
     "text": [
      "+---+---------------+-------------+---------------+---------+-------------+-----------------+-------------+--------------------+---------------+--------------------+---------------+----+----------------+-----------------------+--------------------+-------+-------+--------------------+--------------+-------------------------+------------------------+--------------------+------------------------------+---------------+--------------------+-------------------------------+--------------------+-----------------------+-----------------------+---------------------+--------------------+-------------------+---------------+----------------+--------------------+----+--------+------------+--------------------+---------------------------+--------------------+-------------------+---------------------+---------+-----------------------------+----------+-----------------+---------------+-----------------------------+-----------------------+----------------------+----------------------+--------------------+---------------------+-------------------+-------------------------------+---------------------+------------------------------+--------------+-------------------------+-----------------------------+------------------+--------------------+-------------------------+--------------------------+----------------------+---------------------+----------+------------------------------------+-------------------------+------------------+-----------------+--------------------+---------+---------------------------+-------------+---------------+--------------+---------------------------+---------------------+--------------------+--------------------+------------------+-------------------+-----------------+-----------------------------+-------------------+----------------------------+-------------+-----------------------+---------------------------+----------------+------------------+-----------------------+------------------------+--------------------+-------------------+-------------+----------------------------------+--------------------+--------------------+-----+--------------------+--------------------+----------+\n",
      "|age|class_of_worker|industry_code|occupation_code|education|wage_per_hour|enrol_eduinlat_wk|marital_satus| major_industry_code| major_occ_code|                race|hispanic_origin| sex|mem_of_lab_union|reason_for_unemployment|            FT_or_PT|CAPGAIN|CAPLOSS|dividend_from_stocks|tax_filer_stat|region_previous_residence|state_previous_residence|houshold_family_stat|household_summary_in_household|instance_weight|        live_1yr_ago|num_persons_worked_for_employer|    members_under_18|country_of_birth_father|country_of_birth_mother|country_of_birth_self|         citizenship|ownbusinees_selfemp| veterans_admin|veterans_benefit|weeks_worked_in_year|year|  income|num_features| scaled_num_features|country_of_birth_self_index|tax_filer_stat_index|marital_satus_index|instance_weight_index|sex_index|country_of_birth_father_index|year_index|citizenship_index|education_index|country_of_birth_mother_index|enrol_eduinlat_wk_index|members_under_18_index|mem_of_lab_union_index|veterans_admin_index|occupation_code_index|industry_code_index|region_previous_residence_index|hispanic_origin_index|state_previous_residence_index|FT_or_PT_index|ownbusinees_selfemp_index|reason_for_unemployment_index|live_1yr_ago_index|major_occ_code_index|major_industry_code_index|houshold_family_stat_index|veterans_benefit_index|class_of_worker_index|race_index|household_summary_in_household_index|country_of_birth_self_vec|tax_filer_stat_vec|marital_satus_vec| instance_weight_vec|  sex_vec|country_of_birth_father_vec|     year_vec|citizenship_vec| education_vec|country_of_birth_mother_vec|enrol_eduinlat_wk_vec|members_under_18_vec|mem_of_lab_union_vec|veterans_admin_vec|occupation_code_vec|industry_code_vec|region_previous_residence_vec|hispanic_origin_vec|state_previous_residence_vec| FT_or_PT_vec|ownbusinees_selfemp_vec|reason_for_unemployment_vec|live_1yr_ago_vec|major_occ_code_vec|major_industry_code_vec|houshold_family_stat_vec|veterans_benefit_vec|class_of_worker_vec|     race_vec|household_summary_in_household_vec|        cat_features|            features|label|       rawPrediction|         probability|prediction|\n",
      "+---+---------------+-------------+---------------+---------+-------------+-----------------+-------------+--------------------+---------------+--------------------+---------------+----+----------------+-----------------------+--------------------+-------+-------+--------------------+--------------+-------------------------+------------------------+--------------------+------------------------------+---------------+--------------------+-------------------------------+--------------------+-----------------------+-----------------------+---------------------+--------------------+-------------------+---------------+----------------+--------------------+----+--------+------------+--------------------+---------------------------+--------------------+-------------------+---------------------+---------+-----------------------------+----------+-----------------+---------------+-----------------------------+-----------------------+----------------------+----------------------+--------------------+---------------------+-------------------+-------------------------------+---------------------+------------------------------+--------------+-------------------------+-----------------------------+------------------+--------------------+-------------------------+--------------------------+----------------------+---------------------+----------+------------------------------------+-------------------------+------------------+-----------------+--------------------+---------+---------------------------+-------------+---------------+--------------+---------------------------+---------------------+--------------------+--------------------+------------------+-------------------+-----------------+-----------------------------+-------------------+----------------------------+-------------+-----------------------+---------------------------+----------------+------------------+-----------------------+------------------------+--------------------+-------------------+-------------+----------------------------------+--------------------+--------------------+-----+--------------------+--------------------+----------+\n",
      "|  0|Not in universe|            0|              0| Children|            0|  Not in universe|Never married|Not in universe o...|Not in universe|Asian or Pacific ...|      All other|Male| Not in universe|        Not in universe|Children or Armed...|      0|      0|                   0|      Nonfiler|          Not in universe|         Not in universe|Child <18 never m...|          Child under 18 ne...|         649.07|Not in universe u...|                              0|Both parents present|          United-States|          United-States|        United-States|Native- Born in t...|                  0|Not in universe|               0|                   0|  95|- 50000.|   (7,[],[])|[0.0,0.0,0.0,0.0,...|                        0.0|                 0.0|                0.0|                872.0|      1.0|                          0.0|       0.0|              0.0|            1.0|                          0.0|                    0.0|                   1.0|                   0.0|                 0.0|                  0.0|                0.0|                            0.0|                  0.0|                           0.0|           0.0|                      0.0|                          0.0|               0.0|                 0.0|                      0.0|                       1.0|                   1.0|                  0.0|       2.0|                                 1.0|           (41,[0],[1.0])|     (5,[0],[1.0])|    (6,[0],[1.0])| (48487,[872],[1.0])|(1,[],[])|             (41,[0],[1.0])|(1,[0],[1.0])|  (4,[0],[1.0])|(16,[1],[1.0])|             (41,[0],[1.0])|        (2,[0],[1.0])|       (4,[1],[1.0])|       (2,[0],[1.0])|     (2,[0],[1.0])|     (46,[0],[1.0])|   (50,[0],[1.0])|                (5,[0],[1.0])|      (9,[0],[1.0])|              (49,[0],[1.0])|(7,[0],[1.0])|          (2,[0],[1.0])|              (5,[0],[1.0])|   (2,[0],[1.0])|    (14,[0],[1.0])|         (23,[0],[1.0])|          (34,[1],[1.0])|       (2,[1],[1.0])|      (8,[0],[1.0])|(4,[2],[1.0])|                     (7,[1],[1.0])|(48920,[0,41,46,9...|(48927,[7,48,53,9...|  0.0|[18.7316237904274...|[0.99999999267244...|       0.0|\n",
      "|  0|Not in universe|            0|              0| Children|            0|  Not in universe|Never married|Not in universe o...|Not in universe|Asian or Pacific ...|      All other|Male| Not in universe|        Not in universe|Children or Armed...|      0|      0|                   0|      Nonfiler|          Not in universe|         Not in universe|Child <18 never m...|          Child under 18 ne...|         741.52|Not in universe u...|                              0|Both parents present|            Philippines|            Philippines|        United-States|Native- Born in t...|                  0|Not in universe|               0|                   0|  95|- 50000.|   (7,[],[])|[0.0,0.0,0.0,0.0,...|                        0.0|                 0.0|                0.0|              34134.0|      1.0|                          6.0|       0.0|              0.0|            1.0|                          6.0|                    0.0|                   1.0|                   0.0|                 0.0|                  0.0|                0.0|                            0.0|                  0.0|                           0.0|           0.0|                      0.0|                          0.0|               0.0|                 0.0|                      0.0|                       1.0|                   1.0|                  0.0|       2.0|                                 1.0|           (41,[0],[1.0])|     (5,[0],[1.0])|    (6,[0],[1.0])|(48487,[34134],[1...|(1,[],[])|             (41,[6],[1.0])|(1,[0],[1.0])|  (4,[0],[1.0])|(16,[1],[1.0])|             (41,[6],[1.0])|        (2,[0],[1.0])|       (4,[1],[1.0])|       (2,[0],[1.0])|     (2,[0],[1.0])|     (46,[0],[1.0])|   (50,[0],[1.0])|                (5,[0],[1.0])|      (9,[0],[1.0])|              (49,[0],[1.0])|(7,[0],[1.0])|          (2,[0],[1.0])|              (5,[0],[1.0])|   (2,[0],[1.0])|    (14,[0],[1.0])|         (23,[0],[1.0])|          (34,[1],[1.0])|       (2,[1],[1.0])|      (8,[0],[1.0])|(4,[2],[1.0])|                     (7,[1],[1.0])|(48920,[0,41,46,3...|(48927,[7,48,53,3...|  0.0|[18.4685827037101...|[0.99999999046772...|       0.0|\n",
      "+---+---------------+-------------+---------------+---------+-------------+-----------------+-------------+--------------------+---------------+--------------------+---------------+----+----------------+-----------------------+--------------------+-------+-------+--------------------+--------------+-------------------------+------------------------+--------------------+------------------------------+---------------+--------------------+-------------------------------+--------------------+-----------------------+-----------------------+---------------------+--------------------+-------------------+---------------+----------------+--------------------+----+--------+------------+--------------------+---------------------------+--------------------+-------------------+---------------------+---------+-----------------------------+----------+-----------------+---------------+-----------------------------+-----------------------+----------------------+----------------------+--------------------+---------------------+-------------------+-------------------------------+---------------------+------------------------------+--------------+-------------------------+-----------------------------+------------------+--------------------+-------------------------+--------------------------+----------------------+---------------------+----------+------------------------------------+-------------------------+------------------+-----------------+--------------------+---------+---------------------------+-------------+---------------+--------------+---------------------------+---------------------+--------------------+--------------------+------------------+-------------------+-----------------+-----------------------------+-------------------+----------------------------+-------------+-----------------------+---------------------------+----------------+------------------+-----------------------+------------------------+--------------------+-------------------+-------------+----------------------------------+--------------------+--------------------+-----+--------------------+--------------------+----------+\n",
      "only showing top 2 rows\n",
      "\n"
     ]
    }
   ],
   "source": [
    "test_predictions_lr.show(2)"
   ]
  },
  {
   "cell_type": "markdown",
   "metadata": {},
   "source": [
    "#### 23. What are train and validation(test) accuracies(2M)"
   ]
  },
  {
   "cell_type": "code",
   "execution_count": 38,
   "metadata": {},
   "outputs": [
    {
     "name": "stdout",
     "output_type": "stream",
     "text": [
      "Train accuracy  = 0.990119229961\n"
     ]
    }
   ],
   "source": [
    "from pyspark.ml.evaluation import MulticlassClassificationEvaluator\n",
    "\n",
    "evaluator = MulticlassClassificationEvaluator(labelCol=\"label\", predictionCol=\"prediction\", metricName=\"accuracy\")\n",
    "\n",
    "predictionAndLabels_train_lr = train_predictions_lr.select(\"prediction\", \"label\")\n",
    "train_accuracy_lr = evaluator.evaluate(predictionAndLabels_train_lr)\n",
    "\n",
    "print(\"Train accuracy  = \" + str(train_accuracy_lr))"
   ]
  },
  {
   "cell_type": "code",
   "execution_count": 39,
   "metadata": {},
   "outputs": [],
   "source": [
    "predictionAndLabels_test_lr = test_predictions_lr.select(\"prediction\", \"label\")"
   ]
  },
  {
   "cell_type": "code",
   "execution_count": 40,
   "metadata": {},
   "outputs": [],
   "source": [
    "test_accuracy_lr = evaluator.evaluate(predictionAndLabels_test_lr)"
   ]
  },
  {
   "cell_type": "code",
   "execution_count": 41,
   "metadata": {},
   "outputs": [
    {
     "name": "stdout",
     "output_type": "stream",
     "text": [
      "Test accuracy = 0.8987675374\n"
     ]
    }
   ],
   "source": [
    "print(\"Test accuracy = \" + str(test_accuracy_lr))"
   ]
  },
  {
   "cell_type": "code",
   "execution_count": 42,
   "metadata": {},
   "outputs": [
    {
     "data": {
      "text/plain": [
       "505"
      ]
     },
     "execution_count": 42,
     "metadata": {},
     "output_type": "execute_result"
    }
   ],
   "source": [
    "gc.collect()"
   ]
  },
  {
   "cell_type": "markdown",
   "metadata": {},
   "source": [
    "#### 24. Perform the necessary tuning methods(2M)"
   ]
  },
  {
   "cell_type": "code",
   "execution_count": 43,
   "metadata": {},
   "outputs": [],
   "source": [
    "from pyspark.ml.tuning import ParamGridBuilder, CrossValidator\n",
    "\n",
    "paramGrid = ParamGridBuilder()\\\n",
    "    .addGrid(lr.regParam, [0.1]) \\\n",
    "    .addGrid(lr.elasticNetParam, [0.2])\\\n",
    "    .build()\n",
    "    \n",
    "lr_crossval = CrossValidator(estimator=lr_Pipeline,\n",
    "                             estimatorParamMaps=paramGrid,\n",
    "                             evaluator=evaluator,\n",
    "                             numFolds=2)     "
   ]
  },
  {
   "cell_type": "code",
   "execution_count": 44,
   "metadata": {},
   "outputs": [],
   "source": [
    "lr_crossval_Model = lr_crossval.fit(trainingData)"
   ]
  },
  {
   "cell_type": "code",
   "execution_count": 45,
   "metadata": {},
   "outputs": [],
   "source": [
    "train_predictions_lrcv = lr_crossval_Model.transform(trainingData)\n",
    "test_predictions_lrcv = lr_crossval_Model.transform(testData)"
   ]
  },
  {
   "cell_type": "code",
   "execution_count": 46,
   "metadata": {},
   "outputs": [
    {
     "name": "stdout",
     "output_type": "stream",
     "text": [
      "Train set accuracy  = 0.940580232453\n",
      "Test set accuracy = 0.919541120843\n"
     ]
    }
   ],
   "source": [
    "predictionAndLabels_train_lrcv = train_predictions_lrcv.select(\"prediction\", \"label\")\n",
    "train_accuracycv = evaluator.evaluate(predictionAndLabels_train_lrcv)\n",
    "print(\"Train set accuracy  = \" + str(train_accuracycv))\n",
    "\n",
    "predictionAndLabels_test_lrcv = test_predictions_lrcv.select(\"prediction\", \"label\")\n",
    "test_accuracycv = evaluator.evaluate(predictionAndLabels_test_lrcv)\n",
    "print(\"Test set accuracy = \" + str(test_accuracycv))"
   ]
  },
  {
   "cell_type": "code",
   "execution_count": null,
   "metadata": {},
   "outputs": [],
   "source": []
  }
 ],
 "metadata": {
  "kernelspec": {
   "display_name": "Python 2",
   "language": "python",
   "name": "python2"
  },
  "language_info": {
   "codemirror_mode": {
    "name": "ipython",
    "version": 2
   },
   "file_extension": ".py",
   "mimetype": "text/x-python",
   "name": "python",
   "nbconvert_exporter": "python",
   "pygments_lexer": "ipython2",
   "version": "2.7.5"
  }
 },
 "nbformat": 4,
 "nbformat_minor": 2
}
